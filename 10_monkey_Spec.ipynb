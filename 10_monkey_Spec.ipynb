{
  "nbformat": 4,
  "nbformat_minor": 0,
  "metadata": {
    "colab": {
      "name": "10-monkey-Spec.ipynb",
      "provenance": [],
      "collapsed_sections": [],
      "authorship_tag": "ABX9TyOLZ/CxjbEiCRLZ4b/OhCtd",
      "include_colab_link": true
    },
    "kernelspec": {
      "name": "python3",
      "display_name": "Python 3"
    },
    "language_info": {
      "name": "python"
    },
    "accelerator": "GPU"
  },
  "cells": [
    {
      "cell_type": "markdown",
      "metadata": {
        "id": "view-in-github",
        "colab_type": "text"
      },
      "source": [
        "<a href=\"https://colab.research.google.com/github/doob09/DL_monkey_classification/blob/main/10_monkey_Spec.ipynb\" target=\"_parent\"><img src=\"https://colab.research.google.com/assets/colab-badge.svg\" alt=\"Open In Colab\"/></a>"
      ]
    },
    {
      "cell_type": "markdown",
      "metadata": {
        "id": "sDy4c7PTEjEq"
      },
      "source": [
        "Link Dataset on Kaggle:\n",
        "- https://www.kaggle.com/sachin93/monkey-species-classification-fastai"
      ]
    },
    {
      "cell_type": "markdown",
      "metadata": {
        "id": "Tcw_A650wt-C"
      },
      "source": [
        "# 1.Prepare Data"
      ]
    },
    {
      "cell_type": "code",
      "metadata": {
        "id": "S5qgiDS1wwJR"
      },
      "source": [
        "!pip install opendatasets --upgrade --quiet"
      ],
      "execution_count": null,
      "outputs": []
    },
    {
      "cell_type": "code",
      "metadata": {
        "id": "egKL_acfwx4A"
      },
      "source": [
        "import os\n",
        "import shutil \n",
        "import opendatasets as od"
      ],
      "execution_count": null,
      "outputs": []
    },
    {
      "cell_type": "code",
      "metadata": {
        "colab": {
          "base_uri": "https://localhost:8080/"
        },
        "id": "BucW92NLw520",
        "outputId": "4166c09e-0cf0-49b2-f4ad-613bf743c8cb"
      },
      "source": [
        "dataset_url = 'https://www.kaggle.com/slothkong/10-monkey-species'\n",
        "od.download(dataset_url)"
      ],
      "execution_count": null,
      "outputs": [
        {
          "output_type": "stream",
          "text": [
            "Please provide your Kaggle credentials to download this dataset. Learn more: http://bit.ly/kaggle-creds\n",
            "Your Kaggle username: pv0009\n",
            "Your Kaggle Key: ··········\n"
          ],
          "name": "stdout"
        },
        {
          "output_type": "stream",
          "text": [
            "  4%|▍         | 23.0M/547M [00:00<00:02, 241MB/s]"
          ],
          "name": "stderr"
        },
        {
          "output_type": "stream",
          "text": [
            "Downloading 10-monkey-species.zip to ./10-monkey-species\n"
          ],
          "name": "stdout"
        },
        {
          "output_type": "stream",
          "text": [
            "100%|██████████| 547M/547M [00:02<00:00, 257MB/s]\n"
          ],
          "name": "stderr"
        },
        {
          "output_type": "stream",
          "text": [
            "\n"
          ],
          "name": "stdout"
        }
      ]
    },
    {
      "cell_type": "code",
      "metadata": {
        "colab": {
          "base_uri": "https://localhost:8080/"
        },
        "id": "hmQR-kH-zIlh",
        "outputId": "425ef2e2-eebe-4b87-ff91-9bf0d5407945"
      },
      "source": [
        "# \n",
        "data_path = './10-monkey-species'\n",
        "print(os.getcwd())\n",
        "print(os.listdir(data_path))"
      ],
      "execution_count": null,
      "outputs": [
        {
          "output_type": "stream",
          "text": [
            "/content\n",
            "['training', 'validation', 'monkey_labels.txt']\n"
          ],
          "name": "stdout"
        }
      ]
    },
    {
      "cell_type": "code",
      "metadata": {
        "colab": {
          "base_uri": "https://localhost:8080/"
        },
        "id": "3nHCwKMNz4us",
        "outputId": "fd9dbfa5-cb35-4d60-87e9-dbdbae2d2dbd"
      },
      "source": [
        "# count how many items in each folder\n",
        "train_path = data_path + '/training/training' \n",
        "val_path = data_path + '/validation/validation'\n",
        "list_paths = [train_path, val_path]\n",
        "for l in list_paths:\n",
        "    total_items=0\n",
        "    print('folder name', l )\n",
        "    for sub_dir in os.listdir(l):\n",
        "        item_list = os.listdir(l + '/' + sub_dir)\n",
        "        total_items += len(item_list)\n",
        "        print(sub_dir, ':', len(item_list))\n",
        "    print('total item',total_items)"
      ],
      "execution_count": null,
      "outputs": [
        {
          "output_type": "stream",
          "text": [
            "folder name ./10-monkey-species/training/training\n",
            "n1 : 111\n",
            "n8 : 106\n",
            "n6 : 106\n",
            "n0 : 105\n",
            "n2 : 110\n",
            "n3 : 122\n",
            "n9 : 106\n",
            "n5 : 113\n",
            "n4 : 105\n",
            "n7 : 114\n",
            "total item 1098\n",
            "folder name ./10-monkey-species/validation/validation\n",
            "n1 : 28\n",
            "n8 : 27\n",
            "n6 : 26\n",
            "n0 : 26\n",
            "n2 : 27\n",
            "n3 : 30\n",
            "n9 : 26\n",
            "n5 : 28\n",
            "n4 : 26\n",
            "n7 : 28\n",
            "total item 272\n"
          ],
          "name": "stdout"
        }
      ]
    },
    {
      "cell_type": "code",
      "metadata": {
        "id": "10K_s8e054T4"
      },
      "source": [
        "import pandas as pd"
      ],
      "execution_count": null,
      "outputs": []
    },
    {
      "cell_type": "code",
      "metadata": {
        "colab": {
          "base_uri": "https://localhost:8080/",
          "height": 359
        },
        "id": "1fpYQdv0F2Wt",
        "outputId": "29bbfe28-cfad-49d3-9712-db77680833eb"
      },
      "source": [
        "cols=['Label','Latin Name', 'Common Name','Train Images', 'Validation Images']\n",
        "info_overview = pd.read_csv(data_path + \"/monkey_labels.txt\",names=cols,skiprows=1)\n",
        "info_overview"
      ],
      "execution_count": null,
      "outputs": [
        {
          "output_type": "execute_result",
          "data": {
            "text/html": [
              "<div>\n",
              "<style scoped>\n",
              "    .dataframe tbody tr th:only-of-type {\n",
              "        vertical-align: middle;\n",
              "    }\n",
              "\n",
              "    .dataframe tbody tr th {\n",
              "        vertical-align: top;\n",
              "    }\n",
              "\n",
              "    .dataframe thead th {\n",
              "        text-align: right;\n",
              "    }\n",
              "</style>\n",
              "<table border=\"1\" class=\"dataframe\">\n",
              "  <thead>\n",
              "    <tr style=\"text-align: right;\">\n",
              "      <th></th>\n",
              "      <th>Label</th>\n",
              "      <th>Latin Name</th>\n",
              "      <th>Common Name</th>\n",
              "      <th>Train Images</th>\n",
              "      <th>Validation Images</th>\n",
              "    </tr>\n",
              "  </thead>\n",
              "  <tbody>\n",
              "    <tr>\n",
              "      <th>0</th>\n",
              "      <td>n0</td>\n",
              "      <td>alouatta_palliata\\t</td>\n",
              "      <td>mantled_howler</td>\n",
              "      <td>131</td>\n",
              "      <td>26</td>\n",
              "    </tr>\n",
              "    <tr>\n",
              "      <th>1</th>\n",
              "      <td>n1</td>\n",
              "      <td>erythrocebus_patas\\t</td>\n",
              "      <td>patas_monkey</td>\n",
              "      <td>139</td>\n",
              "      <td>28</td>\n",
              "    </tr>\n",
              "    <tr>\n",
              "      <th>2</th>\n",
              "      <td>n2</td>\n",
              "      <td>cacajao_calvus\\t</td>\n",
              "      <td>bald_uakari</td>\n",
              "      <td>137</td>\n",
              "      <td>27</td>\n",
              "    </tr>\n",
              "    <tr>\n",
              "      <th>3</th>\n",
              "      <td>n3</td>\n",
              "      <td>macaca_fuscata\\t</td>\n",
              "      <td>japanese_macaque</td>\n",
              "      <td>152</td>\n",
              "      <td>30</td>\n",
              "    </tr>\n",
              "    <tr>\n",
              "      <th>4</th>\n",
              "      <td>n4</td>\n",
              "      <td>cebuella_pygmea\\t</td>\n",
              "      <td>pygmy_marmoset</td>\n",
              "      <td>131</td>\n",
              "      <td>26</td>\n",
              "    </tr>\n",
              "    <tr>\n",
              "      <th>5</th>\n",
              "      <td>n5</td>\n",
              "      <td>cebus_capucinus\\t</td>\n",
              "      <td>white_headed_capuchin</td>\n",
              "      <td>141</td>\n",
              "      <td>28</td>\n",
              "    </tr>\n",
              "    <tr>\n",
              "      <th>6</th>\n",
              "      <td>n6</td>\n",
              "      <td>mico_argentatus\\t</td>\n",
              "      <td>silvery_marmoset</td>\n",
              "      <td>132</td>\n",
              "      <td>26</td>\n",
              "    </tr>\n",
              "    <tr>\n",
              "      <th>7</th>\n",
              "      <td>n7</td>\n",
              "      <td>saimiri_sciureus\\t</td>\n",
              "      <td>common_squirrel_monkey</td>\n",
              "      <td>142</td>\n",
              "      <td>28</td>\n",
              "    </tr>\n",
              "    <tr>\n",
              "      <th>8</th>\n",
              "      <td>n8</td>\n",
              "      <td>aotus_nigriceps\\t</td>\n",
              "      <td>black_headed_night_monkey</td>\n",
              "      <td>133</td>\n",
              "      <td>27</td>\n",
              "    </tr>\n",
              "    <tr>\n",
              "      <th>9</th>\n",
              "      <td>n9</td>\n",
              "      <td>trachypithecus_johnii</td>\n",
              "      <td>nilgiri_langur</td>\n",
              "      <td>132</td>\n",
              "      <td>26</td>\n",
              "    </tr>\n",
              "  </tbody>\n",
              "</table>\n",
              "</div>"
            ],
            "text/plain": [
              "   Label                Latin Name  ... Train Images  Validation Images\n",
              "0  n0         alouatta_palliata\\t   ...          131                 26\n",
              "1  n1        erythrocebus_patas\\t   ...          139                 28\n",
              "2  n2        cacajao_calvus\\t       ...          137                 27\n",
              "3  n3        macaca_fuscata\\t       ...          152                 30\n",
              "4  n4       cebuella_pygmea\\t       ...          131                 26\n",
              "5  n5       cebus_capucinus\\t       ...          141                 28\n",
              "6  n6       mico_argentatus\\t       ...          132                 26\n",
              "7  n7      saimiri_sciureus\\t       ...          142                 28\n",
              "8  n8       aotus_nigriceps\\t       ...          133                 27\n",
              "9  n9       trachypithecus_johnii   ...          132                 26\n",
              "\n",
              "[10 rows x 5 columns]"
            ]
          },
          "metadata": {
            "tags": []
          },
          "execution_count": 7
        }
      ]
    },
    {
      "cell_type": "code",
      "metadata": {
        "colab": {
          "base_uri": "https://localhost:8080/"
        },
        "id": "1M9jxmuDF2Ld",
        "outputId": "98267259-f2b5-4c4d-f020-02201fa8533d"
      },
      "source": [
        "#labels = info_overview.iloc[:,[2]]\n",
        "labels= info_overview['Common Name']\n",
        "print(labels[3])\n",
        "print(labels)"
      ],
      "execution_count": null,
      "outputs": [
        {
          "output_type": "stream",
          "text": [
            " japanese_macaque              \n",
            "0     mantled_howler                \n",
            "1     patas_monkey                  \n",
            "2     bald_uakari                   \n",
            "3     japanese_macaque              \n",
            "4     pygmy_marmoset                \n",
            "5     white_headed_capuchin         \n",
            "6     silvery_marmoset              \n",
            "7     common_squirrel_monkey        \n",
            "8     black_headed_night_monkey     \n",
            "9     nilgiri_langur                \n",
            "Name: Common Name, dtype: object\n"
          ],
          "name": "stdout"
        }
      ]
    },
    {
      "cell_type": "code",
      "metadata": {
        "id": "t8rN0ZitF2Bc"
      },
      "source": [
        ""
      ],
      "execution_count": null,
      "outputs": []
    },
    {
      "cell_type": "markdown",
      "metadata": {
        "id": "MaKimafzN0JD"
      },
      "source": [
        "## DataSet"
      ]
    },
    {
      "cell_type": "markdown",
      "metadata": {
        "id": "-S-VB38NDtH5"
      },
      "source": [
        "## Using ImageFolder from pytorch"
      ]
    },
    {
      "cell_type": "code",
      "metadata": {
        "id": "cIwbh7TGDs45"
      },
      "source": [
        "from torchvision import datasets, transforms"
      ],
      "execution_count": null,
      "outputs": []
    },
    {
      "cell_type": "code",
      "metadata": {
        "id": "gJbLYR9TMQMv"
      },
      "source": [
        "import matplotlib.pyplot as plt"
      ],
      "execution_count": null,
      "outputs": []
    },
    {
      "cell_type": "code",
      "metadata": {
        "id": "XY_kZ_52EYHs"
      },
      "source": [
        "train_transform = transforms.Compose([\n",
        "                                transforms.RandomRotation(25),\n",
        "                                transforms.Resize(64),\n",
        "                                transforms.CenterCrop(64),\n",
        "                                transforms.ToTensor(),\n",
        "                                transforms.Normalize(\n",
        "                                                [0.485, 0.456, 0.406],\n",
        "                         \t                    [0.229, 0.224, 0.225])\n",
        "                                \n",
        "])"
      ],
      "execution_count": null,
      "outputs": []
    },
    {
      "cell_type": "code",
      "metadata": {
        "id": "K-ggHSAx4rs6"
      },
      "source": [
        "val_transform = transforms.Compose([\n",
        "                                transforms.RandomRotation(25),\n",
        "                                transforms.Resize(64),\n",
        "                                transforms.CenterCrop(64),\n",
        "                                transforms.ToTensor(),\n",
        "                                transforms.Normalize(\n",
        "                                                [0.485, 0.456, 0.406],\n",
        "                         \t                    [0.229, 0.224, 0.225])\n",
        "                                \n",
        "])"
      ],
      "execution_count": null,
      "outputs": []
    },
    {
      "cell_type": "code",
      "metadata": {
        "colab": {
          "base_uri": "https://localhost:8080/"
        },
        "id": "1swufMSnD5Xh",
        "outputId": "7338008c-7f9a-4fb0-ae48-3df1e2357331"
      },
      "source": [
        "train_ds = datasets.ImageFolder(train_path, transform=train_transform)\n",
        "print(len(train_ds))\n",
        "print(train_ds.classes)"
      ],
      "execution_count": null,
      "outputs": [
        {
          "output_type": "stream",
          "text": [
            "1097\n",
            "['n0', 'n1', 'n2', 'n3', 'n4', 'n5', 'n6', 'n7', 'n8', 'n9']\n"
          ],
          "name": "stdout"
        }
      ]
    },
    {
      "cell_type": "code",
      "metadata": {
        "colab": {
          "base_uri": "https://localhost:8080/"
        },
        "id": "DHkuwuI94nWO",
        "outputId": "e2eb1b7b-7c70-455e-a9c3-0c79cad966ea"
      },
      "source": [
        "val_ds = datasets.ImageFolder(val_path, transform=val_transform)\n",
        "print(len(val_ds))"
      ],
      "execution_count": null,
      "outputs": [
        {
          "output_type": "stream",
          "text": [
            "272\n"
          ],
          "name": "stdout"
        }
      ]
    },
    {
      "cell_type": "code",
      "metadata": {
        "colab": {
          "base_uri": "https://localhost:8080/",
          "height": 285
        },
        "id": "fMmuBvGME8Pl",
        "outputId": "742653d1-2a02-42bf-ae0b-5cea05361080"
      },
      "source": [
        "#show a sample: image with label\n",
        "image,label = train_ds[30]\n",
        "plt.imshow(image.permute(2,1,0))\n",
        "print(labels[label])"
      ],
      "execution_count": null,
      "outputs": [
        {
          "output_type": "stream",
          "text": [
            " mantled_howler                \n"
          ],
          "name": "stdout"
        },
        {
          "output_type": "display_data",
          "data": {
            "image/png": "[encoded data removed]",
            "text/plain": [
              "<Figure size 432x288 with 1 Axes>"
            ]
          },
          "metadata": {
            "tags": [],
            "needs_background": "light"
          }
        }
      ]
    },
    {
      "cell_type": "code",
      "metadata": {
        "id": "ylXqK1NOMXle"
      },
      "source": [
        ""
      ],
      "execution_count": null,
      "outputs": []
    },
    {
      "cell_type": "markdown",
      "metadata": {
        "id": "kbwhIeIFN4Dh"
      },
      "source": [
        "## DataLoader"
      ]
    },
    {
      "cell_type": "code",
      "metadata": {
        "id": "xppw0pMGN5nc"
      },
      "source": [
        "batch_size = 128\n",
        "\n",
        "train_dl = DataLoader(train_ds,\n",
        "                      batch_size,\n",
        "                      shuffle=True,\n",
        "                      num_workers=2,\n",
        "                      pin_memory=True)\n",
        "\n",
        "val_dl = DataLoader(val_ds,\n",
        "                      batch_size,\n",
        "                      num_workers=2,\n",
        "                      pin_memory=True)"
      ],
      "execution_count": null,
      "outputs": []
    },
    {
      "cell_type": "code",
      "metadata": {
        "id": "o0vzT598OH16"
      },
      "source": [
        ""
      ],
      "execution_count": null,
      "outputs": []
    },
    {
      "cell_type": "markdown",
      "metadata": {
        "id": "aR0Z5Zo16oFI"
      },
      "source": [
        "### Moving to device:\n",
        "- Option to use GPU or CPU"
      ]
    },
    {
      "cell_type": "code",
      "metadata": {
        "colab": {
          "base_uri": "https://localhost:8080/",
          "height": 35
        },
        "id": "JjrnUkFP6sYs",
        "outputId": "d50df825-16aa-4c7a-9341-809b4e8592fe"
      },
      "source": [
        "device_name = 'cuda' if torch.cuda.is_available() else 'cpu'\n",
        "device_name"
      ],
      "execution_count": null,
      "outputs": [
        {
          "output_type": "execute_result",
          "data": {
            "application/vnd.google.colaboratory.intrinsic+json": {
              "type": "string"
            },
            "text/plain": [
              "'cuda'"
            ]
          },
          "metadata": {
            "tags": []
          },
          "execution_count": 185
        }
      ]
    },
    {
      "cell_type": "code",
      "metadata": {
        "id": "fm1pECOG605J"
      },
      "source": [
        "def to_hardware(data,hardwareName):\n",
        "    if isinstance(data,(list,tuple)):\n",
        "        return [ to_hardware(x,hardwareName) for x in data ]\n",
        "    return data.to(hardwareName,non_blocking=True)"
      ],
      "execution_count": null,
      "outputs": []
    },
    {
      "cell_type": "code",
      "metadata": {
        "id": "muprQL3h7stP"
      },
      "source": [
        "class DeviceDataLoader():\n",
        "    def __init__(self,dataLoader,hardwareName):\n",
        "        self.dl = dataLoader\n",
        "        self.device = hardwareName\n",
        "    \n",
        "    def __iter__(self):\n",
        "        for batch in self.dl:\n",
        "            yield to_hardware(batch,self.device)\n",
        "        \n",
        "    def __len__(self):\n",
        "        return len(self.dl)"
      ],
      "execution_count": null,
      "outputs": []
    },
    {
      "cell_type": "code",
      "metadata": {
        "colab": {
          "base_uri": "https://localhost:8080/"
        },
        "id": "SZbRvrfm8nbL",
        "outputId": "c970f5c2-045d-4628-adb6-542f6d590541"
      },
      "source": [
        "device = torch.device(device_name)\n",
        "device"
      ],
      "execution_count": null,
      "outputs": [
        {
          "output_type": "execute_result",
          "data": {
            "text/plain": [
              "device(type='cuda')"
            ]
          },
          "metadata": {
            "tags": []
          },
          "execution_count": 188
        }
      ]
    },
    {
      "cell_type": "code",
      "metadata": {
        "colab": {
          "base_uri": "https://localhost:8080/"
        },
        "id": "DmJ1Zjcx8xVa",
        "outputId": "d2c3e3bd-4a36-42db-ded9-be3b2a5ab050"
      },
      "source": [
        "train_dl = DeviceDataLoader(train_dl,device)\n",
        "val_dl = DeviceDataLoader(val_dl,device)\n",
        "print(len(train_dl))\n",
        "print(len(val_dl))"
      ],
      "execution_count": null,
      "outputs": [
        {
          "output_type": "stream",
          "text": [
            "9\n",
            "3\n"
          ],
          "name": "stdout"
        }
      ]
    },
    {
      "cell_type": "markdown",
      "metadata": {
        "id": "DWrR_xEB_mhS"
      },
      "source": [
        "# 2.Model:\n",
        "- Use the pre-trained model"
      ]
    },
    {
      "cell_type": "code",
      "metadata": {
        "id": "SWwEPr3B_n3Y"
      },
      "source": [
        "import torch\n",
        "import torch.nn as nn\n",
        "import torch.nn.functional as F"
      ],
      "execution_count": null,
      "outputs": []
    },
    {
      "cell_type": "code",
      "metadata": {
        "id": "cg8-tprZ_vzZ"
      },
      "source": [
        "\n",
        "import torchvision.models as models"
      ],
      "execution_count": null,
      "outputs": []
    },
    {
      "cell_type": "code",
      "metadata": {
        "colab": {
          "base_uri": "https://localhost:8080/"
        },
        "id": "K8NuV8kq_4To",
        "outputId": "49a858c0-eaee-4088-b82c-58e9f30d4857"
      },
      "source": [
        "model = models.resnet34(pretrained=True)\n",
        "\n",
        "#change the last layer\n",
        "model.fc = nn.Linear(model.fc.in_features,10)\n",
        "#move to gpu\n",
        "to_hardware(model,device)"
      ],
      "execution_count": null,
      "outputs": [
        {
          "output_type": "execute_result",
          "data": {
            "text/plain": [
              "ResNet(\n",
              "  (conv1): Conv2d(3, 64, kernel_size=(7, 7), stride=(2, 2), padding=(3, 3), bias=False)\n",
              "  (bn1): BatchNorm2d(64, eps=1e-05, momentum=0.1, affine=True, track_running_stats=True)\n",
              "  (relu): ReLU(inplace=True)\n",
              "  (maxpool): MaxPool2d(kernel_size=3, stride=2, padding=1, dilation=1, ceil_mode=False)\n",
              "  (layer1): Sequential(\n",
              "    (0): BasicBlock(\n",
              "      (conv1): Conv2d(64, 64, kernel_size=(3, 3), stride=(1, 1), padding=(1, 1), bias=False)\n",
              "      (bn1): BatchNorm2d(64, eps=1e-05, momentum=0.1, affine=True, track_running_stats=True)\n",
              "      (relu): ReLU(inplace=True)\n",
              "      (conv2): Conv2d(64, 64, kernel_size=(3, 3), stride=(1, 1), padding=(1, 1), bias=False)\n",
              "      (bn2): BatchNorm2d(64, eps=1e-05, momentum=0.1, affine=True, track_running_stats=True)\n",
              "    )\n",
              "    (1): BasicBlock(\n",
              "      (conv1): Conv2d(64, 64, kernel_size=(3, 3), stride=(1, 1), padding=(1, 1), bias=False)\n",
              "      (bn1): BatchNorm2d(64, eps=1e-05, momentum=0.1, affine=True, track_running_stats=True)\n",
              "      (relu): ReLU(inplace=True)\n",
              "      (conv2): Conv2d(64, 64, kernel_size=(3, 3), stride=(1, 1), padding=(1, 1), bias=False)\n",
              "      (bn2): BatchNorm2d(64, eps=1e-05, momentum=0.1, affine=True, track_running_stats=True)\n",
              "    )\n",
              "    (2): BasicBlock(\n",
              "      (conv1): Conv2d(64, 64, kernel_size=(3, 3), stride=(1, 1), padding=(1, 1), bias=False)\n",
              "      (bn1): BatchNorm2d(64, eps=1e-05, momentum=0.1, affine=True, track_running_stats=True)\n",
              "      (relu): ReLU(inplace=True)\n",
              "      (conv2): Conv2d(64, 64, kernel_size=(3, 3), stride=(1, 1), padding=(1, 1), bias=False)\n",
              "      (bn2): BatchNorm2d(64, eps=1e-05, momentum=0.1, affine=True, track_running_stats=True)\n",
              "    )\n",
              "  )\n",
              "  (layer2): Sequential(\n",
              "    (0): BasicBlock(\n",
              "      (conv1): Conv2d(64, 128, kernel_size=(3, 3), stride=(2, 2), padding=(1, 1), bias=False)\n",
              "      (bn1): BatchNorm2d(128, eps=1e-05, momentum=0.1, affine=True, track_running_stats=True)\n",
              "      (relu): ReLU(inplace=True)\n",
              "      (conv2): Conv2d(128, 128, kernel_size=(3, 3), stride=(1, 1), padding=(1, 1), bias=False)\n",
              "      (bn2): BatchNorm2d(128, eps=1e-05, momentum=0.1, affine=True, track_running_stats=True)\n",
              "      (downsample): Sequential(\n",
              "        (0): Conv2d(64, 128, kernel_size=(1, 1), stride=(2, 2), bias=False)\n",
              "        (1): BatchNorm2d(128, eps=1e-05, momentum=0.1, affine=True, track_running_stats=True)\n",
              "      )\n",
              "    )\n",
              "    (1): BasicBlock(\n",
              "      (conv1): Conv2d(128, 128, kernel_size=(3, 3), stride=(1, 1), padding=(1, 1), bias=False)\n",
              "      (bn1): BatchNorm2d(128, eps=1e-05, momentum=0.1, affine=True, track_running_stats=True)\n",
              "      (relu): ReLU(inplace=True)\n",
              "      (conv2): Conv2d(128, 128, kernel_size=(3, 3), stride=(1, 1), padding=(1, 1), bias=False)\n",
              "      (bn2): BatchNorm2d(128, eps=1e-05, momentum=0.1, affine=True, track_running_stats=True)\n",
              "    )\n",
              "    (2): BasicBlock(\n",
              "      (conv1): Conv2d(128, 128, kernel_size=(3, 3), stride=(1, 1), padding=(1, 1), bias=False)\n",
              "      (bn1): BatchNorm2d(128, eps=1e-05, momentum=0.1, affine=True, track_running_stats=True)\n",
              "      (relu): ReLU(inplace=True)\n",
              "      (conv2): Conv2d(128, 128, kernel_size=(3, 3), stride=(1, 1), padding=(1, 1), bias=False)\n",
              "      (bn2): BatchNorm2d(128, eps=1e-05, momentum=0.1, affine=True, track_running_stats=True)\n",
              "    )\n",
              "    (3): BasicBlock(\n",
              "      (conv1): Conv2d(128, 128, kernel_size=(3, 3), stride=(1, 1), padding=(1, 1), bias=False)\n",
              "      (bn1): BatchNorm2d(128, eps=1e-05, momentum=0.1, affine=True, track_running_stats=True)\n",
              "      (relu): ReLU(inplace=True)\n",
              "      (conv2): Conv2d(128, 128, kernel_size=(3, 3), stride=(1, 1), padding=(1, 1), bias=False)\n",
              "      (bn2): BatchNorm2d(128, eps=1e-05, momentum=0.1, affine=True, track_running_stats=True)\n",
              "    )\n",
              "  )\n",
              "  (layer3): Sequential(\n",
              "    (0): BasicBlock(\n",
              "      (conv1): Conv2d(128, 256, kernel_size=(3, 3), stride=(2, 2), padding=(1, 1), bias=False)\n",
              "      (bn1): BatchNorm2d(256, eps=1e-05, momentum=0.1, affine=True, track_running_stats=True)\n",
              "      (relu): ReLU(inplace=True)\n",
              "      (conv2): Conv2d(256, 256, kernel_size=(3, 3), stride=(1, 1), padding=(1, 1), bias=False)\n",
              "      (bn2): BatchNorm2d(256, eps=1e-05, momentum=0.1, affine=True, track_running_stats=True)\n",
              "      (downsample): Sequential(\n",
              "        (0): Conv2d(128, 256, kernel_size=(1, 1), stride=(2, 2), bias=False)\n",
              "        (1): BatchNorm2d(256, eps=1e-05, momentum=0.1, affine=True, track_running_stats=True)\n",
              "      )\n",
              "    )\n",
              "    (1): BasicBlock(\n",
              "      (conv1): Conv2d(256, 256, kernel_size=(3, 3), stride=(1, 1), padding=(1, 1), bias=False)\n",
              "      (bn1): BatchNorm2d(256, eps=1e-05, momentum=0.1, affine=True, track_running_stats=True)\n",
              "      (relu): ReLU(inplace=True)\n",
              "      (conv2): Conv2d(256, 256, kernel_size=(3, 3), stride=(1, 1), padding=(1, 1), bias=False)\n",
              "      (bn2): BatchNorm2d(256, eps=1e-05, momentum=0.1, affine=True, track_running_stats=True)\n",
              "    )\n",
              "    (2): BasicBlock(\n",
              "      (conv1): Conv2d(256, 256, kernel_size=(3, 3), stride=(1, 1), padding=(1, 1), bias=False)\n",
              "      (bn1): BatchNorm2d(256, eps=1e-05, momentum=0.1, affine=True, track_running_stats=True)\n",
              "      (relu): ReLU(inplace=True)\n",
              "      (conv2): Conv2d(256, 256, kernel_size=(3, 3), stride=(1, 1), padding=(1, 1), bias=False)\n",
              "      (bn2): BatchNorm2d(256, eps=1e-05, momentum=0.1, affine=True, track_running_stats=True)\n",
              "    )\n",
              "    (3): BasicBlock(\n",
              "      (conv1): Conv2d(256, 256, kernel_size=(3, 3), stride=(1, 1), padding=(1, 1), bias=False)\n",
              "      (bn1): BatchNorm2d(256, eps=1e-05, momentum=0.1, affine=True, track_running_stats=True)\n",
              "      (relu): ReLU(inplace=True)\n",
              "      (conv2): Conv2d(256, 256, kernel_size=(3, 3), stride=(1, 1), padding=(1, 1), bias=False)\n",
              "      (bn2): BatchNorm2d(256, eps=1e-05, momentum=0.1, affine=True, track_running_stats=True)\n",
              "    )\n",
              "    (4): BasicBlock(\n",
              "      (conv1): Conv2d(256, 256, kernel_size=(3, 3), stride=(1, 1), padding=(1, 1), bias=False)\n",
              "      (bn1): BatchNorm2d(256, eps=1e-05, momentum=0.1, affine=True, track_running_stats=True)\n",
              "      (relu): ReLU(inplace=True)\n",
              "      (conv2): Conv2d(256, 256, kernel_size=(3, 3), stride=(1, 1), padding=(1, 1), bias=False)\n",
              "      (bn2): BatchNorm2d(256, eps=1e-05, momentum=0.1, affine=True, track_running_stats=True)\n",
              "    )\n",
              "    (5): BasicBlock(\n",
              "      (conv1): Conv2d(256, 256, kernel_size=(3, 3), stride=(1, 1), padding=(1, 1), bias=False)\n",
              "      (bn1): BatchNorm2d(256, eps=1e-05, momentum=0.1, affine=True, track_running_stats=True)\n",
              "      (relu): ReLU(inplace=True)\n",
              "      (conv2): Conv2d(256, 256, kernel_size=(3, 3), stride=(1, 1), padding=(1, 1), bias=False)\n",
              "      (bn2): BatchNorm2d(256, eps=1e-05, momentum=0.1, affine=True, track_running_stats=True)\n",
              "    )\n",
              "  )\n",
              "  (layer4): Sequential(\n",
              "    (0): BasicBlock(\n",
              "      (conv1): Conv2d(256, 512, kernel_size=(3, 3), stride=(2, 2), padding=(1, 1), bias=False)\n",
              "      (bn1): BatchNorm2d(512, eps=1e-05, momentum=0.1, affine=True, track_running_stats=True)\n",
              "      (relu): ReLU(inplace=True)\n",
              "      (conv2): Conv2d(512, 512, kernel_size=(3, 3), stride=(1, 1), padding=(1, 1), bias=False)\n",
              "      (bn2): BatchNorm2d(512, eps=1e-05, momentum=0.1, affine=True, track_running_stats=True)\n",
              "      (downsample): Sequential(\n",
              "        (0): Conv2d(256, 512, kernel_size=(1, 1), stride=(2, 2), bias=False)\n",
              "        (1): BatchNorm2d(512, eps=1e-05, momentum=0.1, affine=True, track_running_stats=True)\n",
              "      )\n",
              "    )\n",
              "    (1): BasicBlock(\n",
              "      (conv1): Conv2d(512, 512, kernel_size=(3, 3), stride=(1, 1), padding=(1, 1), bias=False)\n",
              "      (bn1): BatchNorm2d(512, eps=1e-05, momentum=0.1, affine=True, track_running_stats=True)\n",
              "      (relu): ReLU(inplace=True)\n",
              "      (conv2): Conv2d(512, 512, kernel_size=(3, 3), stride=(1, 1), padding=(1, 1), bias=False)\n",
              "      (bn2): BatchNorm2d(512, eps=1e-05, momentum=0.1, affine=True, track_running_stats=True)\n",
              "    )\n",
              "    (2): BasicBlock(\n",
              "      (conv1): Conv2d(512, 512, kernel_size=(3, 3), stride=(1, 1), padding=(1, 1), bias=False)\n",
              "      (bn1): BatchNorm2d(512, eps=1e-05, momentum=0.1, affine=True, track_running_stats=True)\n",
              "      (relu): ReLU(inplace=True)\n",
              "      (conv2): Conv2d(512, 512, kernel_size=(3, 3), stride=(1, 1), padding=(1, 1), bias=False)\n",
              "      (bn2): BatchNorm2d(512, eps=1e-05, momentum=0.1, affine=True, track_running_stats=True)\n",
              "    )\n",
              "  )\n",
              "  (avgpool): AdaptiveAvgPool2d(output_size=(1, 1))\n",
              "  (fc): Linear(in_features=512, out_features=10, bias=True)\n",
              ")"
            ]
          },
          "metadata": {
            "tags": []
          },
          "execution_count": 192
        }
      ]
    },
    {
      "cell_type": "code",
      "metadata": {
        "id": "KEt51HiGAUxE",
        "colab": {
          "base_uri": "https://localhost:8080/"
        },
        "outputId": "c69e6aed-12ad-4d4a-d566-556bbc683808"
      },
      "source": [
        "a_batch = next(iter(train_dl))\n",
        "images,labels = a_batch\n",
        "print(labels)"
      ],
      "execution_count": null,
      "outputs": [
        {
          "output_type": "stream",
          "text": [
            "tensor([9, 5, 5, 9, 8, 2, 5, 5, 4, 7, 2, 6, 6, 3, 7, 0, 2, 0, 6, 8, 2, 2, 1, 6,\n",
            "        1, 6, 2, 4, 7, 4, 5, 8, 8, 5, 8, 5, 1, 3, 4, 4, 5, 5, 6, 6, 2, 8, 8, 1,\n",
            "        5, 4, 4, 6, 2, 3, 9, 4, 8, 7, 6, 2, 4, 1, 7, 3, 1, 4, 6, 7, 2, 3, 3, 2,\n",
            "        7, 3, 9, 4, 7, 6, 3, 7, 8, 7, 9, 0, 1, 9, 6, 7, 3, 1, 9, 0, 1, 4, 0, 0,\n",
            "        1, 7, 7, 4, 3, 6, 3, 5, 9, 2, 1, 6, 5, 5, 7, 8, 6, 7, 7, 5, 7, 6, 4, 5,\n",
            "        0, 4, 4, 3, 8, 4, 3, 5], device='cuda:0')\n"
          ],
          "name": "stdout"
        }
      ]
    },
    {
      "cell_type": "markdown",
      "metadata": {
        "id": "gy_4J_K-AYN9"
      },
      "source": [
        "# 3.Training"
      ]
    },
    {
      "cell_type": "code",
      "metadata": {
        "id": "bYh1fRFADXRP"
      },
      "source": [
        "import torch.optim as optim"
      ],
      "execution_count": null,
      "outputs": []
    },
    {
      "cell_type": "code",
      "metadata": {
        "id": "4fTru-gkQUhF"
      },
      "source": [
        "import torch.optim.lr_scheduler as lrs"
      ],
      "execution_count": null,
      "outputs": []
    },
    {
      "cell_type": "code",
      "metadata": {
        "id": "xDL1cOXXBE8E"
      },
      "source": [
        "def get_num_correct(preds,labels):\n",
        "    #get the max of preds  in the index \n",
        "    max_pred = preds.argmax(dim=1)\n",
        "    compare_result = max_pred.eq(labels)\n",
        "    compare_result = compare_result.sum().item()\n",
        "    return compare_result"
      ],
      "execution_count": null,
      "outputs": []
    },
    {
      "cell_type": "code",
      "metadata": {
        "id": "InBfR2X_IChL"
      },
      "source": [
        "def eval_phase(model,dataLoader):\n",
        "    ep_val_loss = 0\n",
        "    ep_val_acc = 0\n",
        "    \n",
        "    model.eval()\n",
        "    for batch in dataLoader:\n",
        "            images,labels = batch\n",
        "            preds=model(images)\n",
        "            loss= F.cross_entropy(preds,labels)\n",
        "\n",
        "            ep_val_loss += loss.item() * images.shape[0]          \n",
        "            ep_val_acc += get_num_correct(preds,labels)\n",
        "    return (ep_val_loss,ep_val_acc)"
      ],
      "execution_count": null,
      "outputs": []
    },
    {
      "cell_type": "code",
      "metadata": {
        "id": "PrUEDcFACLiU"
      },
      "source": [
        "def fit(num_epochs,max_lr, model, train_loader, val_loader,grad_clip=None,criterion=F.cross_entropy, opt_func=torch.optim.SGD):\n",
        "    #clear cache\n",
        "    torch.cuda.empty_cache()\n",
        "\n",
        "    #Custom optimizer with weight decay\n",
        "    lambda1 = lambda epoch: 0.95\n",
        "    optimizer = opt_func(model.parameters(),lr=max_lr)\n",
        "    #scheduler = lrs.StepLR(optimizer,step_size=1,gamma=lambda1)\n",
        "    #scheduler = lrs.ReduceLROnPlateau(optimizer,patience=1,verbose=True)\n",
        "    scheduler = lrs.OneCycleLR(optimizer, max_lr,epochs=num_epochs,steps_per_epoch=len(train_loader))\n",
        "    print(optimizer.state_dict()['param_groups'])\n",
        "    \n",
        "    for epoch in range(num_epochs):\n",
        "        ep_train_loss = 0\n",
        "        loss_list = []\n",
        "        #Training Phase\n",
        "        model.train()\n",
        "        for idx, batch in enumerate(train_loader):\n",
        "           \n",
        "            images,labels = batch\n",
        "            #reset gradient\n",
        "            optimizer.zero_grad()\n",
        "            preds = model(images)\n",
        "            loss = criterion(preds,labels)\n",
        "            loss.backward()\n",
        "            #Stablize the gradient\n",
        "            if grad_clip:\n",
        "                nn.utils.clip_grad_value_(model.parameters(),grad_clip)\n",
        "            optimizer.step()\n",
        "            ep_train_loss += loss.item() * images.shape[0]  \n",
        "            loss_list.append(loss.item())\n",
        "\n",
        "        #Validation Phase\n",
        "        ep_val_loss,ep_val_acc = eval_phase(model, val_dl)\n",
        "        avg_val_loss = ep_val_loss / len(val_ds)\n",
        "        mean_loss = sum(loss_list) / len(loss_list)\n",
        "        pct_acc = ep_val_acc / len(val_ds) \n",
        "        \n",
        "\n",
        "        #learning rate decay\n",
        "        #scheduler.step(mean_loss)\n",
        "        scheduler.step()\n",
        "        print(optimizer.state_dict()['param_groups'][0]['lr'])\n",
        "        avg_train_loss = ep_train_loss \n",
        "        print(\"Epoch: {}, Training Loss:{:.4f}, Mean Loss:{:.4f} ,Validation Loss:{:.4f}, Val_Acc:{:.4f}\".\n",
        "              format(epoch, avg_train_loss, mean_loss, avg_val_loss, pct_acc))"
      ],
      "execution_count": null,
      "outputs": []
    },
    {
      "cell_type": "code",
      "metadata": {
        "colab": {
          "base_uri": "https://localhost:8080/"
        },
        "id": "vUSG07dfP6MG",
        "outputId": "11b8f937-7b50-44da-a8e3-65393b286548"
      },
      "source": [
        "grad_clip= 0.7\n",
        "fit(5,.001,model,train_dl,val_dl,grad_clip=grad_clip,opt_func=optim.Adam)"
      ],
      "execution_count": null,
      "outputs": [
        {
          "output_type": "stream",
          "text": [
            "[{'lr': 3.9999999999999996e-05, 'betas': (0.95, 0.999), 'eps': 1e-08, 'weight_decay': 0, 'amsgrad': False, 'initial_lr': 4e-05, 'max_lr': 0.001, 'min_lr': 4e-09, 'max_momentum': 0.95, 'base_momentum': 0.85, 'params': [0, 1, 2, 3, 4, 5, 6, 7, 8, 9, 10, 11, 12, 13, 14, 15, 16, 17, 18, 19, 20, 21, 22, 23, 24, 25, 26, 27, 28, 29, 30, 31, 32, 33, 34, 35, 36, 37, 38, 39, 40, 41, 42, 43, 44, 45, 46, 47, 48, 49, 50, 51, 52, 53, 54, 55, 56, 57, 58, 59, 60, 61, 62, 63, 64, 65, 66, 67, 68, 69, 70, 71, 72, 73, 74, 75, 76, 77, 78, 79, 80, 81, 82, 83, 84, 85, 86, 87, 88, 89, 90, 91, 92, 93, 94, 95, 96, 97, 98, 99, 100, 101, 102, 103, 104, 105, 106, 107, 108, 109]}]\n",
            "5.508008265825708e-05\n",
            "Epoch: 0, Training Loss:2827.4847, Mean Loss:2.5719 ,Validation Loss:2.3782, Val_Acc:0.1654\n",
            "9.937279357894553e-05\n",
            "Epoch: 1, Training Loss:1875.1045, Mean Loss:1.6997 ,Validation Loss:1.9490, Val_Acc:0.3272\n",
            "0.00017009505883772244\n",
            "Epoch: 2, Training Loss:1133.4431, Mean Loss:1.0221 ,Validation Loss:1.2507, Val_Acc:0.5515\n",
            "0.0002628031384100816\n",
            "Epoch: 3, Training Loss:555.3235, Mean Loss:0.5020 ,Validation Loss:0.8259, Val_Acc:0.7537\n",
            "0.0003716718427000253\n",
            "Epoch: 4, Training Loss:227.1876, Mean Loss:0.2103 ,Validation Loss:0.5712, Val_Acc:0.8235\n"
          ],
          "name": "stdout"
        }
      ]
    },
    {
      "cell_type": "markdown",
      "metadata": {
        "id": "ikJ4skQL2HCy"
      },
      "source": [
        "The accuracy of the model's prediction is about : 82% after 5 training epochs"
      ]
    },
    {
      "cell_type": "code",
      "metadata": {
        "id": "xmO4EmHU4fX-"
      },
      "source": [
        "def test_model(model,data,labels):\n",
        "    image,label = data[25]\n",
        "    print(label)\n",
        "    #turn into tensor rank-4\n",
        "    #convert image to tensor\n",
        "    tensor_img = to_hardware(image.unsqueeze(0),device)\n",
        "    preds = model(tensor_img)\n",
        "    print('prediction are:',preds)\n",
        "    print('shape:',preds.shape)\n",
        "    #get the maximum value at index: (max,max_indices)\n",
        "    _,max_preds= torch.max(preds,dim=1)\n",
        "    print(max_preds)\n",
        "    #get the label of that max pred\n",
        "    pred_label = labels[max_preds.item()]\n",
        "\n",
        "    print('target is :', labels[label])\n",
        "    print('prediction is :',pred_label)\n",
        "    #show the image\n",
        "    plt.imshow(image.permute( (1,2,0)))"
      ],
      "execution_count": null,
      "outputs": []
    },
    {
      "cell_type": "code",
      "metadata": {
        "colab": {
          "base_uri": "https://localhost:8080/",
          "height": 387
        },
        "id": "RBsuadHm6GLE",
        "outputId": "35e77b5a-73e1-4a97-b4b1-df1609ef7269"
      },
      "source": [
        "labels= info_overview['Common Name']\n",
        "test_model(model,val_ds,labels)"
      ],
      "execution_count": null,
      "outputs": [
        {
          "output_type": "stream",
          "text": [
            "0\n",
            "prediction are: tensor([[ 7.8485, -3.0826, -1.9173, -1.7277, -1.5396,  0.7649, -3.4087, -1.9497,\n",
            "         -1.2682,  2.1085]], device='cuda:0', grad_fn=<AddmmBackward>)\n",
            "shape: torch.Size([1, 10])\n",
            "tensor([0], device='cuda:0')\n",
            "target is :  mantled_howler                \n",
            "prediction is :  mantled_howler                \n"
          ],
          "name": "stdout"
        },
        {
          "output_type": "display_data",
          "data": {
            "image/png": "[encoded data removed]",
            "text/plain": [
              "<Figure size 432x288 with 1 Axes>"
            ]
          },
          "metadata": {
            "tags": [],
            "needs_background": "light"
          }
        }
      ]
    },
    {
      "cell_type": "code",
      "metadata": {
        "id": "6nQkztoi6vnb"
      },
      "source": [
        ""
      ],
      "execution_count": null,
      "outputs": []
    },
    {
      "cell_type": "markdown",
      "metadata": {
        "id": "GX8_Pew09Z30"
      },
      "source": [
        "## Save Model"
      ]
    },
    {
      "cell_type": "code",
      "metadata": {
        "id": "sZpyIUbp9a9G"
      },
      "source": [
        "#torch.save(model.state_dict,'v1Monkey.pth')"
      ],
      "execution_count": null,
      "outputs": []
    }
  ]
}